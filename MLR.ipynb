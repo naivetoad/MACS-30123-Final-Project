{
 "cells": [
  {
   "cell_type": "code",
   "execution_count": 1,
   "metadata": {},
   "outputs": [
    {
     "data": {
      "text/html": [
       "Current session configs: <tt>{'conf': {'spark.pyspark.python': 'python3', 'spark.pyspark.virtualenv.enabled': 'true', 'spark.pyspark.virtualenv.type': 'native', 'spark.pyspark.virtualenv.bin.path': '/usr/bin/virtualenv'}, 'proxyUser': 'jovyan', 'kind': 'pyspark'}</tt><br>"
      ],
      "text/plain": [
       "<IPython.core.display.HTML object>"
      ]
     },
     "metadata": {},
     "output_type": "display_data"
    },
    {
     "data": {
      "text/html": [
       "No active sessions."
      ],
      "text/plain": [
       "<IPython.core.display.HTML object>"
      ]
     },
     "metadata": {},
     "output_type": "display_data"
    }
   ],
   "source": [
    "%%configure -f\n",
    "{\n",
    "    \"conf\": {\n",
    "        \"spark.pyspark.python\": \"python3\",\n",
    "        \"spark.pyspark.virtualenv.enabled\": \"true\",\n",
    "        \"spark.pyspark.virtualenv.type\":\"native\",\n",
    "        \"spark.pyspark.virtualenv.bin.path\":\"/usr/bin/virtualenv\"\n",
    "    }\n",
    "}"
   ]
  },
  {
   "cell_type": "code",
   "execution_count": 2,
   "metadata": {},
   "outputs": [
    {
     "name": "stdout",
     "output_type": "stream",
     "text": [
      "Starting Spark application\n"
     ]
    },
    {
     "data": {
      "text/html": [
       "<table>\n",
       "<tr><th>ID</th><th>YARN Application ID</th><th>Kind</th><th>State</th><th>Spark UI</th><th>Driver log</th><th>Current session?</th></tr><tr><td>3</td><td>application_1716567260010_0005</td><td>pyspark</td><td>idle</td><td><a target=\"_blank\" href=\"http://ip-172-31-47-111.ec2.internal:20888/proxy/application_1716567260010_0005/\">Link</a></td><td><a target=\"_blank\" href=\"http://ip-172-31-44-252.ec2.internal:8042/node/containerlogs/container_1716567260010_0005_01_000001/livy\">Link</a></td><td>✔</td></tr></table>"
      ],
      "text/plain": [
       "<IPython.core.display.HTML object>"
      ]
     },
     "metadata": {},
     "output_type": "display_data"
    },
    {
     "data": {
      "application/vnd.jupyter.widget-view+json": {
       "model_id": "",
       "version_major": 2,
       "version_minor": 0
      },
      "text/plain": [
       "FloatProgress(value=0.0, bar_style='info', description='Progress:', layout=Layout(height='25px', width='50%'),…"
      ]
     },
     "metadata": {},
     "output_type": "display_data"
    },
    {
     "name": "stdout",
     "output_type": "stream",
     "text": [
      "SparkSession available as 'spark'.\n"
     ]
    },
    {
     "data": {
      "application/vnd.jupyter.widget-view+json": {
       "model_id": "",
       "version_major": 2,
       "version_minor": 0
      },
      "text/plain": [
       "FloatProgress(value=0.0, bar_style='info', description='Progress:', layout=Layout(height='25px', width='50%'),…"
      ]
     },
     "metadata": {},
     "output_type": "display_data"
    },
    {
     "name": "stdout",
     "output_type": "stream",
     "text": [
      "Collecting pandas==1.0.5\n",
      "  Using cached https://files.pythonhosted.org/packages/af/f3/683bf2547a3eaeec15b39cef86f61e921b3b187f250fcd2b5c5fb4386369/pandas-1.0.5-cp37-cp37m-manylinux1_x86_64.whl\n",
      "Requirement already satisfied: numpy>=1.13.3 in /usr/local/lib64/python3.7/site-packages (from pandas==1.0.5)\n",
      "Collecting python-dateutil>=2.6.1 (from pandas==1.0.5)\n",
      "  Using cached https://files.pythonhosted.org/packages/ec/57/56b9bcc3c9c6a792fcbaf139543cee77261f3651ca9da0c93f5c1221264b/python_dateutil-2.9.0.post0-py2.py3-none-any.whl\n",
      "Requirement already satisfied: pytz>=2017.2 in /usr/local/lib/python3.7/site-packages (from pandas==1.0.5)\n",
      "Requirement already satisfied: six>=1.5 in /usr/local/lib/python3.7/site-packages (from python-dateutil>=2.6.1->pandas==1.0.5)\n",
      "Installing collected packages: python-dateutil, pandas\n",
      "Successfully installed pandas-1.0.5 python-dateutil-2.9.0.post0\n",
      "\n",
      "Collecting scipy==1.4.1\n",
      "  Using cached https://files.pythonhosted.org/packages/dd/82/c1fe128f3526b128cfd185580ba40d01371c5d299fcf7f77968e22dfcc2e/scipy-1.4.1-cp37-cp37m-manylinux1_x86_64.whl\n",
      "Requirement already satisfied: numpy>=1.13.3 in /usr/local/lib64/python3.7/site-packages (from scipy==1.4.1)\n",
      "Installing collected packages: scipy\n",
      "Successfully installed scipy-1.4.1\n",
      "\n",
      "Collecting matplotlib==3.2.1\n",
      "  Using cached https://files.pythonhosted.org/packages/b2/c2/71fcf957710f3ba1f09088b35776a799ba7dd95f7c2b195ec800933b276b/matplotlib-3.2.1-cp37-cp37m-manylinux1_x86_64.whl\n",
      "Collecting pyparsing!=2.0.4,!=2.1.2,!=2.1.6,>=2.0.1 (from matplotlib==3.2.1)\n",
      "  Using cached https://files.pythonhosted.org/packages/9d/ea/6d76df31432a0e6fdf81681a895f009a4bb47b3c39036db3e1b528191d52/pyparsing-3.1.2-py3-none-any.whl\n",
      "Requirement already satisfied: python-dateutil>=2.1 in /mnt/tmp/1716572889411-0/lib/python3.7/site-packages (from matplotlib==3.2.1)\n",
      "Requirement already satisfied: numpy>=1.11 in /usr/local/lib64/python3.7/site-packages (from matplotlib==3.2.1)\n",
      "Collecting cycler>=0.10 (from matplotlib==3.2.1)\n",
      "  Using cached https://files.pythonhosted.org/packages/5c/f9/695d6bedebd747e5eb0fe8fad57b72fdf25411273a39791cde838d5a8f51/cycler-0.11.0-py3-none-any.whl\n",
      "Collecting kiwisolver>=1.0.1 (from matplotlib==3.2.1)\n",
      "  Using cached https://files.pythonhosted.org/packages/f9/77/e3046bf19720b22e3e0b7c12e28f6f2c0c18a213fb91a56cea640862270f/kiwisolver-1.4.5-cp37-cp37m-manylinux_2_5_x86_64.manylinux1_x86_64.whl\n",
      "Requirement already satisfied: six>=1.5 in /usr/local/lib/python3.7/site-packages (from python-dateutil>=2.1->matplotlib==3.2.1)\n",
      "Collecting typing-extensions; python_version < \"3.8\" (from kiwisolver>=1.0.1->matplotlib==3.2.1)\n",
      "  Using cached https://files.pythonhosted.org/packages/ec/6b/63cc3df74987c36fe26157ee12e09e8f9db4de771e0f3404263117e75b95/typing_extensions-4.7.1-py3-none-any.whl\n",
      "Installing collected packages: pyparsing, cycler, typing-extensions, kiwisolver, matplotlib\n",
      "Successfully installed cycler-0.11.0 kiwisolver-1.4.5 matplotlib-3.2.1 pyparsing-3.1.2 typing-extensions-4.7.1"
     ]
    }
   ],
   "source": [
    "# install Python packages\n",
    "sc.install_pypi_package(\"pandas==1.0.5\", \"https://pypi.org/simple\")\n",
    "sc.install_pypi_package(\"scipy==1.4.1\", \"https://pypi.org/simple\")\n",
    "sc.install_pypi_package(\"matplotlib==3.2.1\", \"https://pypi.org/simple\")"
   ]
  },
  {
   "cell_type": "code",
   "execution_count": 3,
   "metadata": {},
   "outputs": [
    {
     "data": {
      "application/vnd.jupyter.widget-view+json": {
       "model_id": "",
       "version_major": 2,
       "version_minor": 0
      },
      "text/plain": [
       "FloatProgress(value=0.0, bar_style='info', description='Progress:', layout=Layout(height='25px', width='50%'),…"
      ]
     },
     "metadata": {},
     "output_type": "display_data"
    }
   ],
   "source": [
    "from pyspark.sql.functions import udf, col, split, lower, regexp_replace, trim, when\n",
    "from pyspark.sql.types import StringType, FloatType, IntegerType\n",
    "from pyspark.ml.feature import RegexTokenizer, StopWordsRemover, CountVectorizer, StringIndexer\n",
    "from pyspark.ml import Pipeline\n",
    "from pyspark.ml.classification import LogisticRegression\n",
    "from pyspark.ml.evaluation import MulticlassClassificationEvaluator, BinaryClassificationEvaluator\n",
    "import matplotlib.pyplot as plt\n",
    "from pyspark.ml.linalg import Vectors"
   ]
  },
  {
   "cell_type": "code",
   "execution_count": 4,
   "metadata": {},
   "outputs": [
    {
     "data": {
      "application/vnd.jupyter.widget-view+json": {
       "model_id": "",
       "version_major": 2,
       "version_minor": 0
      },
      "text/plain": [
       "FloatProgress(value=0.0, bar_style='info', description='Progress:', layout=Layout(height='25px', width='50%'),…"
      ]
     },
     "metadata": {},
     "output_type": "display_data"
    },
    {
     "name": "stdout",
     "output_type": "stream",
     "text": [
      "root\n",
      " |-- abstract: string (nullable = true)\n",
      " |-- authors: string (nullable = true)\n",
      " |-- authors_parsed: array (nullable = true)\n",
      " |    |-- element: array (containsNull = true)\n",
      " |    |    |-- element: string (containsNull = true)\n",
      " |-- categories: string (nullable = true)\n",
      " |-- comments: string (nullable = true)\n",
      " |-- doi: string (nullable = true)\n",
      " |-- id: string (nullable = true)\n",
      " |-- journal-ref: string (nullable = true)\n",
      " |-- license: string (nullable = true)\n",
      " |-- report-no: string (nullable = true)\n",
      " |-- submitter: string (nullable = true)\n",
      " |-- title: string (nullable = true)\n",
      " |-- update_date: string (nullable = true)\n",
      " |-- versions: array (nullable = true)\n",
      " |    |-- element: struct (containsNull = true)\n",
      " |    |    |-- created: string (nullable = true)\n",
      " |    |    |-- version: string (nullable = true)"
     ]
    }
   ],
   "source": [
    "# Read JSON file from S3\n",
    "path = 's3://macs30213-thomas/arxiv.json'\n",
    "data = spark.read.json(path)\n",
    "df.describe().show()"
   ]
  },
  {
   "cell_type": "code",
   "execution_count": 5,
   "metadata": {},
   "outputs": [
    {
     "data": {
      "application/vnd.jupyter.widget-view+json": {
       "model_id": "",
       "version_major": 2,
       "version_minor": 0
      },
      "text/plain": [
       "FloatProgress(value=0.0, bar_style='info', description='Progress:', layout=Layout(height='25px', width='50%'),…"
      ]
     },
     "metadata": {},
     "output_type": "display_data"
    }
   ],
   "source": [
    "arxiv_fields = {'astro-ph': 'Astronomy',\n",
    "                'astro-ph.CO': 'Astronomy',\n",
    "                'astro-ph.EP': 'Astronomy',\n",
    "                'astro-ph.GA': 'Astronomy',\n",
    "                'astro-ph.HE': 'Astronomy',\n",
    "                'astro-ph.IM': 'Astronomy',\n",
    "                'astro-ph.SR': 'Astronomy',\n",
    "                'cond-mat.dis-nn': 'Physics',\n",
    "                'cond-mat.mes-hall': 'Physics',\n",
    "                'cond-mat.mtrl-sci': 'Physics',\n",
    "                'cond-mat.other': 'Physics',\n",
    "                'cond-mat.quant-gas': 'Physics',\n",
    "                'cond-mat.soft': 'Physics',\n",
    "                'cond-mat.stat-mech': 'Physics',\n",
    "                'cond-mat.str-el': 'Physics',\n",
    "                'cond-mat.supr-con': 'Physics',\n",
    "                'cond-mat': 'Physics',\n",
    "                'cs.AI': 'Computer Science',\n",
    "                'cs.AR': 'Computer Science',\n",
    "                'cs.CC': 'Computer Science',\n",
    "                'cs.CE': 'Computer Science',\n",
    "                'cs.CG': 'Computer Science',\n",
    "                'cs.CL': 'Computer Science',\n",
    "                'cs.CR': 'Computer Science',\n",
    "                'cs.CV': 'Computer Science',\n",
    "                'cs.CY': 'Computer Science',\n",
    "                'cs.DB': 'Computer Science',\n",
    "                'cs.DC': 'Computer Science',\n",
    "                'cs.DL': 'Computer Science',\n",
    "                'cs.DM': 'Computer Science',\n",
    "                'cs.DS': 'Computer Science',\n",
    "                'cs.ET': 'Computer Science',\n",
    "                'cs.FL': 'Computer Science',\n",
    "                'cs.GL': 'Computer Science',\n",
    "                'cs.GR': 'Computer Science',\n",
    "                'cs.GT': 'Computer Science',\n",
    "                'cs.HC': 'Computer Science',\n",
    "                'cs.IR': 'Computer Science',\n",
    "                'cs.IT': 'Computer Science',\n",
    "                'cs.LG': 'Computer Science',\n",
    "                'cs.LO': 'Computer Science',\n",
    "                'cs.MA': 'Computer Science',\n",
    "                'cs.MM': 'Computer Science',\n",
    "                'cs.MS': 'Computer Science',\n",
    "                'cs.NA': 'Computer Science',\n",
    "                'cs.NE': 'Computer Science',\n",
    "                'cs.NI': 'Computer Science',\n",
    "                'cs.OH': 'Computer Science',\n",
    "                'cs.OS': 'Computer Science',\n",
    "                'cs.PF': 'Computer Science',\n",
    "                'cs.PL': 'Computer Science',\n",
    "                'cs.RO': 'Computer Science',\n",
    "                'cs.SC': 'Computer Science',\n",
    "                'cs.SD': 'Computer Science',\n",
    "                'cs.SE': 'Computer Science',\n",
    "                'cs.SI': 'Computer Science',\n",
    "                'cs.SY': 'Computer Science',\n",
    "                'econ.EM': 'Math',\n",
    "                'eess.AS': 'Physics',\n",
    "                'eess.IV': 'Physics',\n",
    "                'eess.SP': 'Physics',\n",
    "                'gr-qc': 'Astronomy',\n",
    "                'hep-ex': 'Physics',\n",
    "                'hep-lat': 'Physics',\n",
    "                'hep-ph': 'Physics',\n",
    "                'hep-th': 'Physics',\n",
    "                'math.AC': 'Math',\n",
    "                'math.AG': 'Math',\n",
    "                'math.AP': 'Math',\n",
    "                'math.AT': 'Math',\n",
    "                'math.CA': 'Math',\n",
    "                'math.CO': 'Math',\n",
    "                'math.CT': 'Math',\n",
    "                'math.CV': 'Math',\n",
    "                'math.DG': 'Math',\n",
    "                'math.DS': 'Math',\n",
    "                'math.FA': 'Math',\n",
    "                'math.GM': 'Math',\n",
    "                'math.GN': 'Math',\n",
    "                'math.GR': 'Math',\n",
    "                'math.GT': 'Math',\n",
    "                'math.HO': 'Math',\n",
    "                'math.IT': 'Math',\n",
    "                'math.KT': 'Math',\n",
    "                'math.LO': 'Math',\n",
    "                'math.MG': 'Math',\n",
    "                'math.MP': 'Math',\n",
    "                'math.NA': 'Math',\n",
    "                'math.NT': 'Math',\n",
    "                'math.OA': 'Math',\n",
    "                'math.OC': 'Math',\n",
    "                'math.PR': 'Math',\n",
    "                'math.QA': 'Math',\n",
    "                'math.RA': 'Math',\n",
    "                'math.RT': 'Math',\n",
    "                'math.SG': 'Math',\n",
    "                'math.SP': 'Math',\n",
    "                'math.ST': 'Math',\n",
    "                'math-ph': 'Math',\n",
    "                'nlin.AO': 'Physics',\n",
    "                'nlin.CD': 'Physics',\n",
    "                'nlin.CG': 'Physics',\n",
    "                'nlin.PS': 'Physics',\n",
    "                'nlin.SI': 'Physics',\n",
    "                'nucl-ex': 'Physics',\n",
    "                'nucl-th': 'Physics',\n",
    "                'physics.acc-ph': 'Physics',\n",
    "                'physics.ao-ph': 'Physics',\n",
    "                'physics.app-ph': 'Physics',\n",
    "                'physics.atm-clus': 'Physics',\n",
    "                'physics.atom-ph': 'Physics',\n",
    "                'physics.bio-ph': 'Physics',\n",
    "                'physics.chem-ph': 'Physics',\n",
    "                'physics.class-ph': 'Physics',\n",
    "                'physics.comp-ph': 'Physics',\n",
    "                'physics.data-an': 'Physics',\n",
    "                'physics.ed-ph': 'Physics',\n",
    "                'physics.flu-dyn': 'Physics',\n",
    "                'physics.gen-ph': 'Physics',\n",
    "                'physics.geo-ph': 'Physics',\n",
    "                'physics.hist-ph': 'Physics',\n",
    "                'physics.ins-det': 'Physics',\n",
    "                'physics.med-ph': 'Physics',\n",
    "                'physics.optics': 'Physics',\n",
    "                'physics.plasm-ph':'Physics',\n",
    "                'physics.pop-ph': 'Physics',\n",
    "                'physics.soc-ph': 'Physics',\n",
    "                'physics.space-ph': 'Physics',\n",
    "                'q-bio.BM': 'Physics',\n",
    "                'q-bio.CB': 'Physics',\n",
    "                'q-bio.GN': 'Physics',\n",
    "                'q-bio.MN': 'Physics',\n",
    "                'q-bio.NC': 'Physics',\n",
    "                'q-bio.OT': 'Physics',\n",
    "                'q-bio.PE': 'Physics',\n",
    "                'q-bio.QM': 'Physics',\n",
    "                'q-bio.SC': 'Physics',\n",
    "                'q-bio.TO': 'Physics',\n",
    "                'q-fin.CP': 'Math',\n",
    "                'q-fin.EC': 'Math',\n",
    "                'q-fin.GN': 'Math',\n",
    "                'q-fin.MF': 'Math',\n",
    "                'q-fin.PM': 'Math',\n",
    "                'q-fin.PR': 'Math',\n",
    "                'q-fin.RM': 'Math',\n",
    "                'q-fin.ST': 'Math',\n",
    "                'q-fin.TR': 'Math',\n",
    "                'quant-ph': 'Physics',\n",
    "                'stat.AP': 'Math',\n",
    "                'stat.CO': 'Math',\n",
    "                'stat.ME': 'Math',\n",
    "                'stat.ML': 'Math',\n",
    "                'stat.OT': 'Math',\n",
    "                'stat.TH': 'Math',\n",
    "                'supr-con': 'Physics',\n",
    "                'econ.GN': 'Math',\n",
    "                'mtrl-th': 'Physics',\n",
    "                'dg-ga': 'Math',\n",
    "                'comp-gas': 'Physics',\n",
    "                'cmp-lg': 'Computer Science',\n",
    "                'solv-int': 'Physics',\n",
    "                'acc-phys': 'Physics',\n",
    "                'patt-sol': 'Physics',\n",
    "                'funct-an': 'Math',\n",
    "                'econ.TH': 'Math',\n",
    "                'ao-sci': 'Physics',\n",
    "                'q-alg': 'Math',\n",
    "                'eess.SY': 'Physics',\n",
    "                'chem-ph': 'Physics',\n",
    "                'alg-geom': 'Math',\n",
    "                'atom-ph': 'Physics',\n",
    "                'plasm-ph': 'Physics',\n",
    "                'chao-dyn': 'Physics',\n",
    "                'bayes-an': 'Math',\n",
    "                'adap-org': 'Physics'\n",
    "                }"
   ]
  },
  {
   "cell_type": "code",
   "execution_count": 6,
   "metadata": {},
   "outputs": [
    {
     "data": {
      "application/vnd.jupyter.widget-view+json": {
       "model_id": "",
       "version_major": 2,
       "version_minor": 0
      },
      "text/plain": [
       "FloatProgress(value=0.0, bar_style='info', description='Progress:', layout=Layout(height='25px', width='50%'),…"
      ]
     },
     "metadata": {},
     "output_type": "display_data"
    }
   ],
   "source": [
    "# Extract abstracts and categories\n",
    "df = data.select('abstract', 'categories')\n",
    "\n",
    "# Extract the first category\n",
    "df = df.withColumn(\"categories\", split(col(\"categories\"), \" \").getItem(0))\n",
    "\n",
    "# Create a broadcast variable\n",
    "broadcast_dict = spark.sparkContext.broadcast(arxiv_fields)\n",
    "\n",
    "# Map categories to fields\n",
    "def map_category(categories):\n",
    "    if categories:\n",
    "        return broadcast_dict.value.get(categories, \"Unknown\")\n",
    "map_category_udf = udf(map_category, StringType())\n",
    "\n",
    "# Apply UDF\n",
    "df = df.withColumn(\"field\", map_category_udf(col(\"categories\")))"
   ]
  },
  {
   "cell_type": "code",
   "execution_count": 7,
   "metadata": {},
   "outputs": [
    {
     "data": {
      "application/vnd.jupyter.widget-view+json": {
       "model_id": "",
       "version_major": 2,
       "version_minor": 0
      },
      "text/plain": [
       "FloatProgress(value=0.0, bar_style='info', description='Progress:', layout=Layout(height='25px', width='50%'),…"
      ]
     },
     "metadata": {},
     "output_type": "display_data"
    },
    {
     "name": "stdout",
     "output_type": "stream",
     "text": [
      "+--------------------+--------------------+---------+-----+\n",
      "|              tokens|            features|    field|label|\n",
      "+--------------------+--------------------+---------+-----+\n",
      "|[fully, different...|(262144,[1,11,20,...|  Physics|  0.0|\n",
      "|[describe, new, a...|(262144,[2,5,14,1...|     Math|  1.0|\n",
      "|[evolution, earth...|(262144,[0,1,5,12...|  Physics|  0.0|\n",
      "|[show, determinan...|(262144,[3,222,24...|     Math|  1.0|\n",
      "|[paper, show, com...|(262144,[3,4,8,69...|     Math|  1.0|\n",
      "|[study, twopartic...|(262144,[2,5,6,9,...|  Physics|  0.0|\n",
      "|[rather, nonstand...|(262144,[0,3,6,8,...|Astronomy|  3.0|\n",
      "|[general, formula...|(262144,[2,7,18,3...|  Physics|  0.0|\n",
      "|[discuss, results...|(262144,[1,2,5,6,...|Astronomy|  3.0|\n",
      "|[partial, cubes, ...|(262144,[2,8,14,2...|     Math|  1.0|\n",
      "|[paper, present, ...|(262144,[4,8,13,1...|     Math|  1.0|\n",
      "|[recently, bruini...|(262144,[4,5,8,9,...|     Math|  1.0|\n",
      "|[serre, obtained,...|(262144,[4,5,8,15...|     Math|  1.0|\n",
      "|[article, discuss...|(262144,[15,23,12...|     Math|  1.0|\n",
      "|[pure, spinor, fo...|(262144,[6,8,18,3...|  Physics|  0.0|\n",
      "|[work, evaluate, ...|(262144,[0,2,5,16...|  Physics|  0.0|\n",
      "|[results, spectro...|(262144,[0,2,12,1...|Astronomy|  3.0|\n",
      "|[give, prescripti...|(262144,[2,3,4,21...|  Physics|  0.0|\n",
      "|[note, give, new,...|(262144,[4,10,14,...|     Math|  1.0|\n",
      "|[shape, hadronic,...|(262144,[0,1,2,4,...|  Physics|  0.0|\n",
      "+--------------------+--------------------+---------+-----+\n",
      "only showing top 20 rows"
     ]
    }
   ],
   "source": [
    "# Preprocess text\n",
    "df = df.withColumn('abstract', lower(col('abstract'))) # convert to lowercase\n",
    "df = df.withColumn('abstract', regexp_replace(col('abstract'), '[^a-zA-Z\\s]', '')) # remove punctuation \n",
    "df = df.withColumn('abstract', trim(col('abstract'))) # remove trailing spaces\n",
    "\n",
    "# Tokenize text\n",
    "tokenizer = RegexTokenizer(inputCol=\"abstract\", outputCol=\"words\", pattern=\"\\\\W\")\n",
    "\n",
    "# Remove stop words\n",
    "remover = StopWordsRemover(inputCol=\"words\", outputCol=\"tokens\")\n",
    "\n",
    "# Convert text to vectors\n",
    "vectorizer = CountVectorizer(inputCol=\"tokens\", outputCol=\"features\")\n",
    "\n",
    "# Convert labels to indices\n",
    "string_indexer = StringIndexer(inputCol=\"field\", outputCol=\"label\")\n",
    "\n",
    "# Create a pipeline\n",
    "pipeline = Pipeline(stages=[tokenizer, remover, vectorizer, string_indexer])\n",
    "\n",
    "# Fit and transform data\n",
    "model = pipeline.fit(df)\n",
    "dataset = model.transform(df)\n",
    "\n",
    "# Display processed data\n",
    "dataset = dataset.select('tokens', 'features', 'field', 'label')\n",
    "dataset.show()"
   ]
  },
  {
   "cell_type": "code",
   "execution_count": 8,
   "metadata": {},
   "outputs": [
    {
     "data": {
      "application/vnd.jupyter.widget-view+json": {
       "model_id": "",
       "version_major": 2,
       "version_minor": 0
      },
      "text/plain": [
       "FloatProgress(value=0.0, bar_style='info', description='Progress:', layout=Layout(height='25px', width='50%'),…"
      ]
     },
     "metadata": {},
     "output_type": "display_data"
    },
    {
     "name": "stdout",
     "output_type": "stream",
     "text": [
      "Index 0 corresponds to 'Physics'\n",
      "Index 1 corresponds to 'Math'\n",
      "Index 2 corresponds to 'Computer Science'\n",
      "Index 3 corresponds to 'Astronomy'"
     ]
    }
   ],
   "source": [
    "# Find correspoding indices and fields\n",
    "labels = model.stages[3].labels\n",
    "for i, label in enumerate(labels):\n",
    "    print(f\"Index {i} corresponds to '{label}'\")"
   ]
  },
  {
   "cell_type": "code",
   "execution_count": 9,
   "metadata": {},
   "outputs": [
    {
     "data": {
      "application/vnd.jupyter.widget-view+json": {
       "model_id": "",
       "version_major": 2,
       "version_minor": 0
      },
      "text/plain": [
       "FloatProgress(value=0.0, bar_style='info', description='Progress:', layout=Layout(height='25px', width='50%'),…"
      ]
     },
     "metadata": {},
     "output_type": "display_data"
    }
   ],
   "source": [
    "# Initialize a Logisic Regression classifier\n",
    "lr = LogisticRegression(featuresCol=\"features\", labelCol=\"label\")\n",
    "\n",
    "# Split data\n",
    "train, test = dataset.randomSplit([0.7, 0.3])\n",
    "\n",
    "# Train the model\n",
    "lr_model = lr.fit(train)\n",
    "\n",
    "# Test the model\n",
    "predictions = lr_model.transform(test)"
   ]
  },
  {
   "cell_type": "code",
   "execution_count": 10,
   "metadata": {},
   "outputs": [
    {
     "data": {
      "application/vnd.jupyter.widget-view+json": {
       "model_id": "",
       "version_major": 2,
       "version_minor": 0
      },
      "text/plain": [
       "FloatProgress(value=0.0, bar_style='info', description='Progress:', layout=Layout(height='25px', width='50%'),…"
      ]
     },
     "metadata": {},
     "output_type": "display_data"
    },
    {
     "name": "stdout",
     "output_type": "stream",
     "text": [
      "Test Accuracy: 0.8638154751359564"
     ]
    }
   ],
   "source": [
    "# Initialize a multiclass evaluator\n",
    "evaluator = MulticlassClassificationEvaluator(predictionCol=\"prediction\", labelCol=\"label\", metricName=\"accuracy\")\n",
    "\n",
    "# Evaluate test accuracy\n",
    "accuracy = evaluator.evaluate(predictions)\n",
    "print(\"Test Accuracy:\", accuracy)"
   ]
  },
  {
   "cell_type": "code",
   "execution_count": 11,
   "metadata": {},
   "outputs": [
    {
     "data": {
      "application/vnd.jupyter.widget-view+json": {
       "model_id": "",
       "version_major": 2,
       "version_minor": 0
      },
      "text/plain": [
       "FloatProgress(value=0.0, bar_style='info', description='Progress:', layout=Layout(height='25px', width='50%'),…"
      ]
     },
     "metadata": {},
     "output_type": "display_data"
    },
    {
     "name": "stdout",
     "output_type": "stream",
     "text": [
      "Computer Science AUC: 0.34670427235911\n",
      "Physics AUC: 0.9603017074103793\n",
      "Math AUC: 0.43717168248343435\n",
      "Astronomy AUC: 0.2068281789731948"
     ]
    }
   ],
   "source": [
    "# Initialize a binaryclass evaluator\n",
    "evaluator = BinaryClassificationEvaluator(rawPredictionCol=\"probability\", labelCol=\"label\", metricName=\"areaUnderROC\")\n",
    "\n",
    "fields = ['Computer Science', 'Physics', 'Math', 'Astronomy']\n",
    "roc_auc = []\n",
    "\n",
    "# Calculate ROC for each field\n",
    "for i, field in enumerate(fields):\n",
    "    binary_predictions = predictions.withColumn(\"binary_label\", when(col(\"label\") == i, 1).otherwise(0))\n",
    "    auc = evaluator.evaluate(binary_predictions, {evaluator.labelCol: \"binary_label\"})\n",
    "    roc_auc.append((i, auc))\n",
    "    print(f\"{field} AUC: {auc}\")"
   ]
  },
  {
   "cell_type": "code",
   "execution_count": 12,
   "metadata": {},
   "outputs": [
    {
     "data": {
      "application/vnd.jupyter.widget-view+json": {
       "model_id": "",
       "version_major": 2,
       "version_minor": 0
      },
      "text/plain": [
       "FloatProgress(value=0.0, bar_style='info', description='Progress:', layout=Layout(height='25px', width='50%'),…"
      ]
     },
     "metadata": {},
     "output_type": "display_data"
    }
   ],
   "source": [
    "def compute_roc(predictions, class_index, total_classes):\n",
    "    # Filter probabilities for one class\n",
    "    get_class_probability = udf(lambda v: float(v[class_index]), FloatType())\n",
    "    predictions_class = predictions.withColumn(\"probability\", get_class_probability(col(\"probability\")))\n",
    "\n",
    "    # Employ binary labels\n",
    "    binary_label = udf(lambda l: 1 if l == class_index else 0, IntegerType())\n",
    "    predictions_class = predictions_class.withColumn(\"binary_label\", binary_label(col(\"label\")))\n",
    "\n",
    "    # Sort by probability\n",
    "    predictions_class = predictions_class.orderBy(col(\"probability\").desc())\n",
    "\n",
    "    # Count positive and negative labels\n",
    "    num_positives = predictions_class.where(col(\"binary_label\") == 1).count()\n",
    "    num_negatives = predictions_class.where(col(\"binary_label\") == 0).count()\n",
    "    \n",
    "    # Initialize counters\n",
    "    tp = 0\n",
    "    fp = 0\n",
    "    prev_prob = -1\n",
    "    fpr = []\n",
    "    tpr = []\n",
    "    \n",
    "    # Collect data\n",
    "    collected_data = predictions_class.select(\"probability\", \"binary_label\").collect()\n",
    "\n",
    "    for row in collected_data:\n",
    "        prob, label = row\n",
    "        if prob != prev_prob:\n",
    "            fpr.append(fp / num_negatives if num_negatives != 0 else 0)\n",
    "            tpr.append(tp / num_positives if num_positives != 0 else 0)\n",
    "            prev_prob = prob\n",
    "        if label == 1:\n",
    "            tp += 1\n",
    "        else:\n",
    "            fp += 1\n",
    "\n",
    "    fpr.append(fp / num_negatives if num_negatives != 0 else 0)\n",
    "    tpr.append(tp / num_positives if num_positives != 0 else 0)\n",
    "\n",
    "    return fpr, tpr"
   ]
  },
  {
   "cell_type": "code",
   "execution_count": 13,
   "metadata": {},
   "outputs": [
    {
     "data": {
      "application/vnd.jupyter.widget-view+json": {
       "model_id": "",
       "version_major": 2,
       "version_minor": 0
      },
      "text/plain": [
       "FloatProgress(value=0.0, bar_style='info', description='Progress:', layout=Layout(height='25px', width='50%'),…"
      ]
     },
     "metadata": {},
     "output_type": "display_data"
    }
   ],
   "source": [
    "# Calculate ROC data\n",
    "roc_data = {}\n",
    "\n",
    "for i, field in enumerate(fields):\n",
    "    fpr, tpr = compute_roc(predictions, i, 4)\n",
    "    roc_data[field] = (fpr, tpr)"
   ]
  },
  {
   "cell_type": "code",
   "execution_count": 14,
   "metadata": {},
   "outputs": [
    {
     "data": {
      "application/vnd.jupyter.widget-view+json": {
       "model_id": "",
       "version_major": 2,
       "version_minor": 0
      },
      "text/plain": [
       "FloatProgress(value=0.0, bar_style='info', description='Progress:', layout=Layout(height='25px', width='50%'),…"
      ]
     },
     "metadata": {},
     "output_type": "display_data"
    },
    {
     "data": {
      "image/png": "[encoded data removed]",
      "text/plain": [
       "<IPython.core.display.Image object>"
      ]
     },
     "metadata": {},
     "output_type": "display_data"
    }
   ],
   "source": [
    "# Plot\n",
    "plt.close()\n",
    "plt.figure(figsize=(10, 8))\n",
    "\n",
    "for class_index, (fpr, tpr) in roc_data.items():\n",
    "    plt.plot(fpr, tpr, label=f'{class_index}')\n",
    "\n",
    "plt.plot([0, 1], [0, 1], 'k--')\n",
    "plt.xlabel('False Positive Rate')\n",
    "plt.ylabel('True Positive Rate')\n",
    "plt.title('ROC Curves by Class')\n",
    "plt.legend(loc=\"lower right\")\n",
    "%matplot plt"
   ]
  }
 ],
 "metadata": {
  "kernelspec": {
   "display_name": "PySpark",
   "language": "",
   "name": "pysparkkernel"
  },
  "language_info": {
   "codemirror_mode": {
    "name": "python",
    "version": 3
   },
   "mimetype": "text/x-python",
   "name": "pyspark",
   "pygments_lexer": "python3"
  }
 },
 "nbformat": 4,
 "nbformat_minor": 4
}
